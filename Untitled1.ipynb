{
 "cells": [
  {
   "cell_type": "code",
   "execution_count": 1,
   "id": "fcd53ac0",
   "metadata": {},
   "outputs": [],
   "source": [
    "import numpy as np\n"
   ]
  },
  {
   "cell_type": "code",
   "execution_count": 2,
   "id": "8e81680e",
   "metadata": {},
   "outputs": [],
   "source": [
    "skr = np.random.random(20)\n"
   ]
  },
  {
   "cell_type": "code",
   "execution_count": 3,
   "id": "9d05e539",
   "metadata": {},
   "outputs": [
    {
     "data": {
      "text/plain": [
       "array([0.91242735, 0.9517168 , 0.69586701, 0.69061767, 0.18808375,\n",
       "       0.84609689, 0.02834966, 0.42803026, 0.62407162, 0.79888844,\n",
       "       0.44672078, 0.83734127, 0.69811224, 0.18776244, 0.20352742,\n",
       "       0.63737337, 0.53170314, 0.19895012, 0.62812135, 0.4676842 ])"
      ]
     },
     "execution_count": 3,
     "metadata": {},
     "output_type": "execute_result"
    }
   ],
   "source": [
    "skr"
   ]
  },
  {
   "cell_type": "code",
   "execution_count": 4,
   "id": "342e166d",
   "metadata": {},
   "outputs": [],
   "source": [
    "didziausia_reiksme = np.max(skr)"
   ]
  },
  {
   "cell_type": "code",
   "execution_count": 5,
   "id": "814fd054",
   "metadata": {},
   "outputs": [
    {
     "data": {
      "text/plain": [
       "0.9517168026015412"
      ]
     },
     "execution_count": 5,
     "metadata": {},
     "output_type": "execute_result"
    }
   ],
   "source": [
    "didziausia_reiksme"
   ]
  },
  {
   "cell_type": "code",
   "execution_count": 6,
   "id": "b08181fd",
   "metadata": {},
   "outputs": [],
   "source": [
    "    didziausios_reiksmes_indeksas = np.argmax(skr)\n"
   ]
  },
  {
   "cell_type": "code",
   "execution_count": 7,
   "id": "4c2d980a",
   "metadata": {},
   "outputs": [
    {
     "data": {
      "text/plain": [
       "1"
      ]
     },
     "execution_count": 7,
     "metadata": {},
     "output_type": "execute_result"
    }
   ],
   "source": [
    "didziausios_reiksmes_indeksas"
   ]
  },
  {
   "cell_type": "code",
   "execution_count": 8,
   "id": "21c4f900",
   "metadata": {},
   "outputs": [],
   "source": [
    "maziausia_reiksme = np.min(skr)"
   ]
  },
  {
   "cell_type": "code",
   "execution_count": 9,
   "id": "d5458ec3",
   "metadata": {},
   "outputs": [
    {
     "data": {
      "text/plain": [
       "0.028349655102469895"
      ]
     },
     "execution_count": 9,
     "metadata": {},
     "output_type": "execute_result"
    }
   ],
   "source": [
    "maziausia_reiksme\n"
   ]
  },
  {
   "cell_type": "code",
   "execution_count": 10,
   "id": "6d91ad43",
   "metadata": {},
   "outputs": [],
   "source": [
    "maz_index  = np.argmin(skr)"
   ]
  },
  {
   "cell_type": "code",
   "execution_count": 11,
   "id": "9513893b",
   "metadata": {},
   "outputs": [
    {
     "data": {
      "text/plain": [
       "6"
      ]
     },
     "execution_count": 11,
     "metadata": {},
     "output_type": "execute_result"
    }
   ],
   "source": [
    "maz_index"
   ]
  },
  {
   "cell_type": "code",
   "execution_count": 12,
   "id": "646f8376",
   "metadata": {},
   "outputs": [],
   "source": [
    "duomenu_tipas = skr.dtype\n"
   ]
  },
  {
   "cell_type": "code",
   "execution_count": 13,
   "id": "799b44f7",
   "metadata": {},
   "outputs": [
    {
     "data": {
      "text/plain": [
       "dtype('float64')"
      ]
     },
     "execution_count": 13,
     "metadata": {},
     "output_type": "execute_result"
    }
   ],
   "source": [
    "duomenu_tipas"
   ]
  },
  {
   "cell_type": "code",
   "execution_count": 14,
   "id": "329ffb04",
   "metadata": {},
   "outputs": [],
   "source": [
    "vek = np.arange(1, 101)\n"
   ]
  },
  {
   "cell_type": "code",
   "execution_count": 15,
   "id": "c1615933",
   "metadata": {},
   "outputs": [
    {
     "data": {
      "text/plain": [
       "array([  1,   2,   3,   4,   5,   6,   7,   8,   9,  10,  11,  12,  13,\n",
       "        14,  15,  16,  17,  18,  19,  20,  21,  22,  23,  24,  25,  26,\n",
       "        27,  28,  29,  30,  31,  32,  33,  34,  35,  36,  37,  38,  39,\n",
       "        40,  41,  42,  43,  44,  45,  46,  47,  48,  49,  50,  51,  52,\n",
       "        53,  54,  55,  56,  57,  58,  59,  60,  61,  62,  63,  64,  65,\n",
       "        66,  67,  68,  69,  70,  71,  72,  73,  74,  75,  76,  77,  78,\n",
       "        79,  80,  81,  82,  83,  84,  85,  86,  87,  88,  89,  90,  91,\n",
       "        92,  93,  94,  95,  96,  97,  98,  99, 100])"
      ]
     },
     "execution_count": 15,
     "metadata": {},
     "output_type": "execute_result"
    }
   ],
   "source": [
    "vek"
   ]
  },
  {
   "cell_type": "code",
   "execution_count": 16,
   "id": "2538ec25",
   "metadata": {},
   "outputs": [],
   "source": [
    "didziau_uz_90 = vek[vek > 90]\n"
   ]
  },
  {
   "cell_type": "code",
   "execution_count": 17,
   "id": "e89c3e0f",
   "metadata": {},
   "outputs": [
    {
     "data": {
      "text/plain": [
       "array([ 91,  92,  93,  94,  95,  96,  97,  98,  99, 100])"
      ]
     },
     "execution_count": 17,
     "metadata": {},
     "output_type": "execute_result"
    }
   ],
   "source": [
    "didziau_uz_90"
   ]
  },
  {
   "cell_type": "code",
   "execution_count": 18,
   "id": "2c20f717",
   "metadata": {},
   "outputs": [],
   "source": [
    "kartotiniai_septyniu = vek[vek % 7 == 0]\n"
   ]
  },
  {
   "cell_type": "code",
   "execution_count": 19,
   "id": "cc15f9d6",
   "metadata": {},
   "outputs": [
    {
     "data": {
      "text/plain": [
       "array([ 7, 14, 21, 28, 35, 42, 49, 56, 63, 70, 77, 84, 91, 98])"
      ]
     },
     "execution_count": 19,
     "metadata": {},
     "output_type": "execute_result"
    }
   ],
   "source": [
    "kartotiniai_septyniu"
   ]
  },
  {
   "cell_type": "code",
   "execution_count": 20,
   "id": "647a442a",
   "metadata": {},
   "outputs": [],
   "source": [
    "matrica = np.arange(0.025, 1.025, 0.025).reshape(5, 8)\n"
   ]
  },
  {
   "cell_type": "code",
   "execution_count": 21,
   "id": "0be31647",
   "metadata": {},
   "outputs": [
    {
     "data": {
      "text/plain": [
       "array([[0.025, 0.05 , 0.075, 0.1  , 0.125, 0.15 , 0.175, 0.2  ],\n",
       "       [0.225, 0.25 , 0.275, 0.3  , 0.325, 0.35 , 0.375, 0.4  ],\n",
       "       [0.425, 0.45 , 0.475, 0.5  , 0.525, 0.55 , 0.575, 0.6  ],\n",
       "       [0.625, 0.65 , 0.675, 0.7  , 0.725, 0.75 , 0.775, 0.8  ],\n",
       "       [0.825, 0.85 , 0.875, 0.9  , 0.925, 0.95 , 0.975, 1.   ]])"
      ]
     },
     "execution_count": 21,
     "metadata": {},
     "output_type": "execute_result"
    }
   ],
   "source": [
    "matrica"
   ]
  },
  {
   "cell_type": "code",
   "execution_count": 22,
   "id": "cb1ca097",
   "metadata": {},
   "outputs": [],
   "source": [
    "sakniniai_skaiciai = []\n",
    "for skaicius in range(2, 1001):\n",
    "    if np.sqrt(skaicius).is_integer():\n",
    "        sakniniai_skaiciai.append(skaicius)"
   ]
  },
  {
   "cell_type": "code",
   "execution_count": 24,
   "id": "dc255500",
   "metadata": {},
   "outputs": [
    {
     "ename": "ValueError",
     "evalue": "cannot reshape array of size 30 into shape (32,5)",
     "output_type": "error",
     "traceback": [
      "\u001b[1;31m---------------------------------------------------------------------------\u001b[0m",
      "\u001b[1;31mValueError\u001b[0m                                Traceback (most recent call last)",
      "Cell \u001b[1;32mIn[24], line 1\u001b[0m\n\u001b[1;32m----> 1\u001b[0m matrica \u001b[38;5;241m=\u001b[39m \u001b[43mnp\u001b[49m\u001b[38;5;241;43m.\u001b[39;49m\u001b[43marray\u001b[49m\u001b[43m(\u001b[49m\u001b[43msakniniai_skaiciai\u001b[49m\u001b[43m)\u001b[49m\u001b[38;5;241;43m.\u001b[39;49m\u001b[43mreshape\u001b[49m\u001b[43m(\u001b[49m\u001b[38;5;241;43m32\u001b[39;49m\u001b[43m,\u001b[49m\u001b[43m \u001b[49m\u001b[38;5;241;43m5\u001b[39;49m\u001b[43m)\u001b[49m\n\u001b[0;32m      2\u001b[0m matrica\n",
      "\u001b[1;31mValueError\u001b[0m: cannot reshape array of size 30 into shape (32,5)"
     ]
    }
   ],
   "source": [
    "matrica = np.array(sakniniai_skaiciai).reshape(32, 5)\n",
    "matrica"
   ]
  },
  {
   "cell_type": "code",
   "execution_count": 25,
   "id": "98727816",
   "metadata": {},
   "outputs": [
    {
     "ename": "ValueError",
     "evalue": "cannot reshape array of size 32 into shape (6,5)",
     "output_type": "error",
     "traceback": [
      "\u001b[1;31m---------------------------------------------------------------------------\u001b[0m",
      "\u001b[1;31mValueError\u001b[0m                                Traceback (most recent call last)",
      "Cell \u001b[1;32mIn[25], line 7\u001b[0m\n\u001b[0;32m      4\u001b[0m         sakniniai_skaiciai\u001b[38;5;241m.\u001b[39mappend(skaicius)\n\u001b[0;32m      6\u001b[0m sakniniai_skaiciai \u001b[38;5;241m+\u001b[39m\u001b[38;5;241m=\u001b[39m [\u001b[38;5;241m0\u001b[39m] \u001b[38;5;241m*\u001b[39m (\u001b[38;5;241m32\u001b[39m \u001b[38;5;241m-\u001b[39m \u001b[38;5;28mlen\u001b[39m(sakniniai_skaiciai))  \u001b[38;5;66;03m# Papildome sąrašą, jei jis turi mažiau nei 32 elementus\u001b[39;00m\n\u001b[1;32m----> 7\u001b[0m matrica \u001b[38;5;241m=\u001b[39m \u001b[43mnp\u001b[49m\u001b[38;5;241;43m.\u001b[39;49m\u001b[43marray\u001b[49m\u001b[43m(\u001b[49m\u001b[43msakniniai_skaiciai\u001b[49m\u001b[43m)\u001b[49m\u001b[38;5;241;43m.\u001b[39;49m\u001b[43mreshape\u001b[49m\u001b[43m(\u001b[49m\u001b[38;5;241;43m6\u001b[39;49m\u001b[43m,\u001b[49m\u001b[43m \u001b[49m\u001b[38;5;241;43m5\u001b[39;49m\u001b[43m)\u001b[49m\n\u001b[0;32m      8\u001b[0m matrica\n",
      "\u001b[1;31mValueError\u001b[0m: cannot reshape array of size 32 into shape (6,5)"
     ]
    }
   ],
   "source": [
    "\n",
    "\n",
    "sakniniai_skaiciai = []\n",
    "for skaicius in range(2, 1001):\n",
    "    if np.sqrt(skaicius).is_integer():\n",
    "        sakniniai_skaiciai.append(skaicius)\n",
    "\n",
    "sakniniai_skaiciai += [0] * (32 - len(sakniniai_skaiciai))  # Papildome sąrašą, jei jis turi mažiau nei 32 elementus\n",
    "matrica = np.array(sakniniai_skaiciai).reshape(6, 5)\n",
    "matrica\n"
   ]
  },
  {
   "cell_type": "code",
   "execution_count": 26,
   "id": "1090826a",
   "metadata": {},
   "outputs": [
    {
     "data": {
      "text/plain": [
       "array([[  4,   9,  16,  25,  36,  49],\n",
       "       [ 64,  81, 100, 121, 144, 169],\n",
       "       [196, 225, 256, 289, 324, 361],\n",
       "       [400, 441, 484, 529, 576, 625],\n",
       "       [676, 729, 784, 841, 900, 961],\n",
       "       [  0,   0,   0,   0,   0,   0]])"
      ]
     },
     "execution_count": 26,
     "metadata": {},
     "output_type": "execute_result"
    }
   ],
   "source": [
    "import numpy as np\n",
    "\n",
    "sakniniai_skaiciai = []\n",
    "for skaicius in range(2, 1001):\n",
    "    if np.sqrt(skaicius).is_integer():\n",
    "        sakniniai_skaiciai.append(skaicius)\n",
    "\n",
    "sakniniai_skaiciai += [0] * (36 - len(sakniniai_skaiciai))  # Papildome sąrašą, jei jis turi mažiau nei 36 elementus\n",
    "matrica = np.array(sakniniai_skaiciai).reshape(6, 6)\n",
    "matrica\n"
   ]
  },
  {
   "cell_type": "code",
   "execution_count": 27,
   "id": "4d4cd1c9",
   "metadata": {},
   "outputs": [],
   "source": [
    "import numpy as np\n",
    "\n",
    "vekt = np.arange(1, 101)\n"
   ]
  },
  {
   "cell_type": "code",
   "execution_count": 28,
   "id": "c1971ec1",
   "metadata": {},
   "outputs": [
    {
     "data": {
      "text/plain": [
       "array([  1,   2,   3,   4,   5,   6,   7,   8,   9,  10,  11,  12,  13,\n",
       "        14,  15,  16,  17,  18,  19,  20,  21,  22,  23,  24,  25,  26,\n",
       "        27,  28,  29,  30,  31,  32,  33,  34,  35,  36,  37,  38,  39,\n",
       "        40,  41,  42,  43,  44,  45,  46,  47,  48,  49,  50,  51,  52,\n",
       "        53,  54,  55,  56,  57,  58,  59,  60,  61,  62,  63,  64,  65,\n",
       "        66,  67,  68,  69,  70,  71,  72,  73,  74,  75,  76,  77,  78,\n",
       "        79,  80,  81,  82,  83,  84,  85,  86,  87,  88,  89,  90,  91,\n",
       "        92,  93,  94,  95,  96,  97,  98,  99, 100])"
      ]
     },
     "execution_count": 28,
     "metadata": {},
     "output_type": "execute_result"
    }
   ],
   "source": [
    "vekt"
   ]
  },
  {
   "cell_type": "code",
   "execution_count": 29,
   "id": "17ef4a03",
   "metadata": {},
   "outputs": [],
   "source": [
    "def ar_pirminis(skaicius):\n",
    "    if skaicius < 2:\n",
    "        return False\n",
    "    for i in range(2, int(np.sqrt(skaicius)) + 1):\n",
    "        if skaicius % i == 0:\n",
    "            return False\n",
    "    return True"
   ]
  },
  {
   "cell_type": "code",
   "execution_count": 30,
   "id": "7a3960da",
   "metadata": {},
   "outputs": [],
   "source": [
    "nauja_funkcija = np.vectorize(ar_pirminis)\n"
   ]
  },
  {
   "cell_type": "code",
   "execution_count": 33,
   "id": "3d5a95f3",
   "metadata": {},
   "outputs": [],
   "source": [
    "pirminiai_skaiciai = vekt[nauja_funkcija(vekt)]\n"
   ]
  },
  {
   "cell_type": "code",
   "execution_count": 36,
   "id": "2eb46f98",
   "metadata": {},
   "outputs": [],
   "source": [
    "vektorius = np.arange(1, 101)\n",
    "\n",
    "def ar_pirminis(skaicius):\n",
    "    if skaicius < 2:\n",
    "        return False\n",
    "    for i in range(2, int(np.sqrt(skaicius)) + 1):\n",
    "        if skaicius % i == 0:\n",
    "            return False\n",
    "    return True\n",
    "\n",
    "nauja_funkcija = np.vectorize(ar_pirminis)\n",
    "\n",
    "pirminiai_skaiciai = vekt[nauja_funkcija(vekt)]\n"
   ]
  },
  {
   "cell_type": "code",
   "execution_count": 37,
   "id": "f75e8a25",
   "metadata": {},
   "outputs": [
    {
     "data": {
      "text/plain": [
       "array([ 2,  3,  5,  7, 11, 13, 17, 19, 23, 29, 31, 37, 41, 43, 47, 53, 59,\n",
       "       61, 67, 71, 73, 79, 83, 89, 97])"
      ]
     },
     "execution_count": 37,
     "metadata": {},
     "output_type": "execute_result"
    }
   ],
   "source": [
    "pirminiai_skaiciai"
   ]
  },
  {
   "cell_type": "code",
   "execution_count": null,
   "id": "2cf71c32",
   "metadata": {},
   "outputs": [],
   "source": []
  }
 ],
 "metadata": {
  "kernelspec": {
   "display_name": "Python 3 (ipykernel)",
   "language": "python",
   "name": "python3"
  },
  "language_info": {
   "codemirror_mode": {
    "name": "ipython",
    "version": 3
   },
   "file_extension": ".py",
   "mimetype": "text/x-python",
   "name": "python",
   "nbconvert_exporter": "python",
   "pygments_lexer": "ipython3",
   "version": "3.11.4"
  }
 },
 "nbformat": 4,
 "nbformat_minor": 5
}
